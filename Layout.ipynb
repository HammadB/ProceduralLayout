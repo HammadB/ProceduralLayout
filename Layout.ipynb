{
  "nbformat": 4,
  "nbformat_minor": 0,
  "metadata": {
    "colab": {
      "name": "Layout.ipynb",
      "version": "0.3.2",
      "provenance": [],
      "collapsed_sections": [],
      "include_colab_link": true
    },
    "kernelspec": {
      "name": "python3",
      "display_name": "Python 3"
    }
  },
  "cells": [
    {
      "cell_type": "markdown",
      "metadata": {
        "id": "view-in-github",
        "colab_type": "text"
      },
      "source": [
        "[View in Colaboratory](https://colab.research.google.com/github/HammadB/ProceduralLayout/blob/master/Layout.ipynb)"
      ]
    },
    {
      "metadata": {
        "id": "_omom_7B4Cej",
        "colab_type": "code",
        "colab": {}
      },
      "cell_type": "code",
      "source": [
        "import numpy as np\n",
        "import matplotlib.pyplot as plt\n",
        "import matplotlib.cm as cm\n",
        "from copy import copy"
      ],
      "execution_count": 0,
      "outputs": []
    },
    {
      "metadata": {
        "id": "tUVKhiou0Lrk",
        "colab_type": "code",
        "colab": {
          "base_uri": "https://localhost:8080/",
          "height": 347
        },
        "outputId": "f6d70107-8fa4-4a3b-b4f3-886008f3f5a3"
      },
      "cell_type": "code",
      "source": [
        "#Boilerplate code for \n",
        "class Vector2(object):\n",
        "  x = None\n",
        "  y = None\n",
        "  \n",
        "  def __init__(self, x, y):\n",
        "    self.x = x\n",
        "    self.y = y \n",
        "  \n",
        "class LayoutObject(object):\n",
        "  empty = 0\n",
        "  \n",
        "  def getIntersection(self, otherLayoutObject):\n",
        "    return None #not implemented\n",
        " \n",
        "  def __copy__(self):\n",
        "    print(\"ERROR NOT IMPLEMENTED\")\n",
        "  \n",
        "class Box(LayoutObject):\n",
        "  center = None\n",
        "  size = None\n",
        "  uL = None\n",
        "  uR = None\n",
        "  bL = None\n",
        "  bR = None\n",
        "\n",
        "  #Center is a Vector2\n",
        "  def __init__(self, center, size):\n",
        "    self.center = center\n",
        "    self.size = size\n",
        "    self.uL = Vector2(center.x - size/2, center.y + size/2)\n",
        "    self.uR = Vector2(center.x + size/2, center.y + size/2) \n",
        "    self.bL = Vector2(center.x - size/2, center.y - size/2)    \n",
        "    self.bR = Vector2(center.x + size/2, center.y - size/2) \n",
        "  \n",
        "  def __copy__(self):\n",
        "    return Box(self.center, self.size)\n",
        "  \n",
        "  #Only supports intersections with other boxes\n",
        "  def getIntersection(self, otherLayoutObject):\n",
        "    # determine the (x, y)-coordinates of the intersection rectangle\n",
        "    xA = max(self.uL.x, otherLayoutObject.uL.x)\n",
        "    yA = min(self.uL.y, otherLayoutObject.uL.y) #A : upper left\n",
        "    xB = min(self.bR.x, otherLayoutObject.bR.x)\n",
        "    yB = max(self.bR.y, otherLayoutObject.bR.y) #B: bottom right\n",
        "    return max(0, xB - xA) * max(0, yA - yB)\n",
        "\n",
        "class Layout(object):\n",
        "  \n",
        "  def __init__(self, layoutObjects, planeBox):\n",
        "    self._myLayoutObjects = layoutObjects\n",
        "    self.planeBox = planeBox\n",
        "  \n",
        "  def getLayoutObjects(self):\n",
        "    return self._myLayoutObjects\n",
        "  \n",
        "  def getPlaneBox(self):\n",
        "    return self.planeBox\n",
        "  \n",
        "  def drawLayout(self):\n",
        "    plt.axes()\n",
        "    x = np.arange(len(self._myLayoutObjects))\n",
        "    ys = [i+x+(i*x)**2 for i in range(len(self._myLayoutObjects))]\n",
        "    colors = cm.rainbow(np.linspace(0, 1, len(ys)))\n",
        "    #For now all layout objects are Boxes\n",
        "    i = 0\n",
        "    for box in self._myLayoutObjects:\n",
        "      shape = plt.Rectangle((box.bL.x, box.bL.y), box.size, box.size, fc=colors[i])\n",
        "      plt.gca().add_patch(shape)\n",
        "      i += 1\n",
        "    #bounding box\n",
        "    shape = plt.Rectangle((self.planeBox.bL.x, self.planeBox.bL.y), self.planeBox.size, self.planeBox.size, fc=\"c\", alpha=0.1)\n",
        "    plt.gca().add_patch(shape)\n",
        "    \n",
        "    plt.axis('scaled')\n",
        "    plt.show()\n",
        "   \n",
        "  def __copy__(self):\n",
        "    newLayoutObjects = []\n",
        "    for layoutObject in self.getLayoutObjects():\n",
        "      newLayoutObject = copy(layoutObject)\n",
        "      newLayoutObjects.append(newLayoutObject)\n",
        "    return Layout(*newLayoutObjects) \n",
        "\n",
        "b = Box(Vector2(1, 1), 0.2)\n",
        "b2 = Box(Vector2(3, 2),  0.5)\n",
        "layout = Layout([b, b2], Box(Vector2(1.5, 1.5),  5))\n",
        "layout.drawLayout()\n"
      ],
      "execution_count": 3,
      "outputs": [
        {
          "output_type": "display_data",
          "data": {
            "image/png": "[encoded data removed]",
            "text/plain": [
              "<matplotlib.figure.Figure at 0x7fc2bf83a358>"
            ]
          },
          "metadata": {
            "tags": []
          }
        }
      ]
    },
    {
      "metadata": {
        "id": "Hc1cducK9Q0Y",
        "colab_type": "code",
        "colab": {}
      },
      "cell_type": "code",
      "source": [
        "#Constraints\n",
        "\n",
        "class Constraint(object):\n",
        "  \n",
        "  def evaluate_cost():\n",
        "    return 0\n",
        "\n",
        "class AreaConstraint(Constraint):\n",
        "  \n",
        "  #Returns area of all layoutObjects\n",
        "  def __init__(self, layoutObjects):\n",
        "    self._myConstrainedObjects = layoutObjects\n",
        "  \n",
        "  def evaluate_cost(self):\n",
        "    sumOfAreas = 0\n",
        "    for i in range(len(self._myConstrainedObjects)):\n",
        "      for j in range(i + 1, len(self._myConstrainedObjects)):\n",
        "        sumOfAreas += self._myConstrainedObjects[i].getIntersection(self._myConstrainedObjects[j])\n",
        "    return sumOfAreas\n",
        "\n",
        "class BoundaryConstraint(Constraint):\n",
        "  \n",
        "  def __init__(self, layoutObjects, bbox):\n",
        "    self._myConstrainedObjects = layoutObjects\n",
        "    self.bbox = bbox\n",
        "    \n",
        "  def evaluate_cost(self):\n",
        "    for layoutObject in self._myConstrainedObjects:\n",
        "      if not(layoutObject.bR.x < self.bbox.bR.x and layoutObject.bL.x > self.bbox.bL.x and layoutObject.uR.y < self.bbox.uR.y and layoutObject.bR.y > self.bbox.bR.y):\n",
        "        return float(\"inf\")\n",
        "    return 0"
      ],
      "execution_count": 0,
      "outputs": []
    },
    {
      "metadata": {
        "id": "nhIDhLx_3buf",
        "colab_type": "code",
        "colab": {
          "base_uri": "https://localhost:8080/",
          "height": 677
        },
        "outputId": "f081baa5-a7df-4aac-f1ff-4e9dd5d13748"
      },
      "cell_type": "code",
      "source": [
        "def boltzmann(cost, beta=1.0):\n",
        "  return np.exp(-beta*cost)\n",
        "\n",
        "def acceptanceProbability(current_cost, proposed_cost):\n",
        "  return min(1, boltzmann(proposed_cost)/boltzmann(current_cost))\n",
        "\n",
        "\n",
        "def get_cost(layout):\n",
        "  areaConstraintObj = AreaConstraint(layout.getLayoutObjects())\n",
        "  boundaryConstraintObj = BoundaryConstraint(layout.getLayoutObjects(), layout.getPlaneBox())\n",
        "  return areaConstraintObj.evaluate_cost() + boundaryConstraintObj.evaluate_cost()\n",
        "\n",
        "\n",
        "def propose_new_layout(current_layout):\n",
        "  new_layout_objects = []\n",
        "  for rect in current_layout.getLayoutObjects():\n",
        "    rect_center = rect.center \n",
        "    new_center = Vector2(rect_center.x + np.random.normal(scale=0.01), rect_center.y + np.random.normal(scale=0.01))\n",
        "    new_rect = Box(new_center, rect.size)\n",
        "    new_layout_objects.append(new_rect)\n",
        "  \n",
        "  return Layout(new_layout_objects, current_layout.getPlaneBox())\n",
        "\n",
        "\n",
        "def metropolis_hastings(initial_layout, num_iters=10000):\n",
        "  cur_cost = get_cost(initial_layout)\n",
        "  cur_layout = initial_layout\n",
        "  best_layout = cur_layout\n",
        "  best_cost = float(\"inf\")\n",
        "  \n",
        "  for i in range(num_iters):\n",
        "    new_layout = propose_new_layout(cur_layout)\n",
        "    new_cost = get_cost(new_layout)\n",
        "    \n",
        "    if np.random.random() < acceptanceProbability(cur_cost, new_cost):\n",
        "      cur_layout = new_layout\n",
        "      cur_cost = new_cost\n",
        "      if cur_cost < best_cost:\n",
        "        best_layout = cur_layout\n",
        "        best_cost = cur_cost\n",
        "      \n",
        "  return best_layout\n",
        "\n",
        "\n",
        "b = Box(Vector2(0, 0), 0.2)\n",
        "b2 = Box(Vector2(0, 0),  0.5)\n",
        "b3 = Box(Vector2(0, 0),  0.5)\n",
        "b4 = Box(Vector2(0, 0),  0.5)\n",
        "b5 = Box(Vector2(0, 0),  0.5)\n",
        "b6 = Box(Vector2(0, 0),  0.5)\n",
        "b7 = Box(Vector2(0, 0),  0.5)\n",
        "bounds = Box(Vector2(0.5, 0.5),  2)\n",
        "layout = Layout([b, b2, b3 ,b4, b5, b6, b7], bounds)\n",
        "layout.drawLayout()\n",
        "final_layout = metropolis_hastings(layout, num_iters=100000)\n",
        "final_layout.drawLayout()"
      ],
      "execution_count": 148,
      "outputs": [
        {
          "output_type": "display_data",
          "data": {
            "image/png": "[encoded data removed]",
            "text/plain": [
              "<matplotlib.figure.Figure at 0x7f2819a81278>"
            ]
          },
          "metadata": {
            "tags": []
          }
        },
        {
          "output_type": "display_data",
          "data": {
            "image/png": "[encoded data removed]",
            "text/plain": [
              "<matplotlib.figure.Figure at 0x7f281cb172e8>"
            ]
          },
          "metadata": {
            "tags": []
          }
        }
      ]
    },
    {
      "metadata": {
        "id": "BlIDaTczWNf5",
        "colab_type": "code",
        "colab": {
          "base_uri": "https://localhost:8080/",
          "height": 677
        },
        "outputId": "a07392b2-622a-4626-bc5b-5f43a0ef605c"
      },
      "cell_type": "code",
      "source": [
        "##Bin Packing ##\n",
        "b = Box(Vector2(2, 2), 1)\n",
        "b2 = Box(Vector2(2, 2),  1)\n",
        "b3 = Box(Vector2(2, 2),  1)\n",
        "b4 = Box(Vector2(2, 2),  1)\n",
        "bounding_box = Box(Vector2(2,2),2.01)\n",
        "layout = Layout([b,b2,b3,b4], bounding_box)\n",
        "layout.drawLayout()\n",
        "final_layout = metropolis_hastings(layout, num_iters=10000000)\n",
        "final_layout.drawLayout()\n"
      ],
      "execution_count": 13,
      "outputs": [
        {
          "output_type": "display_data",
          "data": {
            "image/png": "[encoded data removed]",
            "text/plain": [
              "<matplotlib.figure.Figure at 0x7fc2bcd71470>"
            ]
          },
          "metadata": {
            "tags": []
          }
        },
        {
          "output_type": "display_data",
          "data": {
            "image/png": "[encoded data removed]",
            "text/plain": [
              "<matplotlib.figure.Figure at 0x7fc2bcf15780>"
            ]
          },
          "metadata": {
            "tags": []
          }
        }
      ]
    },
    {
      "metadata": {
        "id": "f7o2i336I4lx",
        "colab_type": "code",
        "colab": {}
      },
      "cell_type": "code",
      "source": [
        ""
      ],
      "execution_count": 0,
      "outputs": []
    }
  ]
}