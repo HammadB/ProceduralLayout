{
  "nbformat": 4,
  "nbformat_minor": 0,
  "metadata": {
    "colab": {
      "name": "Layout.ipynb",
      "version": "0.3.2",
      "provenance": [],
      "collapsed_sections": [],
      "include_colab_link": true
    },
    "kernelspec": {
      "name": "python3",
      "display_name": "Python 3"
    }
  },
  "cells": [
    {
      "cell_type": "markdown",
      "metadata": {
        "id": "view-in-github",
        "colab_type": "text"
      },
      "source": [
        "<a href=\"https://colab.research.google.com/github/HammadB/ProceduralLayout/blob/master/Layout.ipynb\" target=\"_parent\"><img src=\"https://colab.research.google.com/assets/colab-badge.svg\" alt=\"Open In Colab\"/></a>"
      ]
    },
    {
      "metadata": {
        "id": "P4MBrzZYkdcs",
        "colab_type": "code",
        "colab": {
          "base_uri": "https://localhost:8080/",
          "height": 122
        },
        "outputId": "507c5d41-b9c2-4a1e-e285-8a1f6105de00"
      },
      "cell_type": "code",
      "source": [
        "!pip install pyaml"
      ],
      "execution_count": 1,
      "outputs": [
        {
          "output_type": "stream",
          "text": [
            "Collecting pyaml\n",
            "  Downloading https://files.pythonhosted.org/packages/17/c1/5892f756109e54ed53c753129b0da4acf6b6add8dff5a85b18667553b16d/pyaml-17.12.1-py2.py3-none-any.whl\n",
            "Requirement already satisfied: PyYAML in /usr/local/lib/python3.6/dist-packages (from pyaml) (3.13)\n",
            "Installing collected packages: pyaml\n",
            "Successfully installed pyaml-17.12.1\n"
          ],
          "name": "stdout"
        }
      ]
    },
    {
      "metadata": {
        "id": "_omom_7B4Cej",
        "colab_type": "code",
        "colab": {}
      },
      "cell_type": "code",
      "source": [
        "import numpy as np\n",
        "import matplotlib.pyplot as plt\n",
        "import matplotlib.cm as cm\n",
        "from copy import copy\n",
        "import json as json\n",
        "import yaml"
      ],
      "execution_count": 0,
      "outputs": []
    },
    {
      "metadata": {
        "id": "Hc1cducK9Q0Y",
        "colab_type": "code",
        "colab": {}
      },
      "cell_type": "code",
      "source": [
        "class Constraint(object):\n",
        "  \n",
        "  def evaluate_cost(self):\n",
        "    return 0\n",
        "\n",
        "class AreaConstraint(Constraint):\n",
        "  \n",
        "  def __init__(self, layoutObjects):\n",
        "    self._myLayoutObjects = layoutObjects\n",
        "    \n",
        "  def evaluate_cost(self):\n",
        "    sumOfAreas = 0\n",
        "    for i in range(len(self._myLayoutObjects)):\n",
        "      for j in range(i + 1, len(self._myLayoutObjects)):\n",
        "        sumOfAreas += self._myLayoutObjects[i].getIntersection(self._myLayoutObjects[j])\n",
        "    return sumOfAreas\n",
        "\n",
        "#Special constraint for plane checking\n",
        "class BoundaryConstraint(Constraint):\n",
        "  \n",
        "  def __init__(self, layoutObjects):\n",
        "    self._myLayoutObjects = layoutObjects\n",
        "    \n",
        "  def evaluate_cost(self):\n",
        "    for layoutObject in self._myLayoutObjects:\n",
        "      bbox = layoutObject.getPlane()\n",
        "      if not(layoutObject.bR.x < bbox.bR.x and layoutObject.bL.x > bbox.bL.x and layoutObject.uR.y < bbox.uR.y and layoutObject.bR.y > bbox.bR.y):\n",
        "        return float(\"inf\")\n",
        "    return 0"
      ],
      "execution_count": 0,
      "outputs": []
    },
    {
      "metadata": {
        "id": "tUVKhiou0Lrk",
        "colab_type": "code",
        "outputId": "6e62b5cf-5142-4bee-e641-7f6c2c3f27da",
        "colab": {
          "base_uri": "https://localhost:8080/",
          "height": 256
        }
      },
      "cell_type": "code",
      "source": [
        "#Boilerplate code for \n",
        "class Vector2(object):\n",
        "  x = None\n",
        "  y = None\n",
        "  \n",
        "  def __init__(self, x, y):\n",
        "    self.x = x\n",
        "    self.y = y \n",
        "  \n",
        "class LayoutObject(object):\n",
        "  empty = 0\n",
        "  _myPlane = None\n",
        "        \n",
        "  def getIntersection(self, otherLayoutObject):\n",
        "    return None #not implemented\n",
        "  \n",
        "  def setPlane(self, plane):\n",
        "    self._myPlane = plane\n",
        "    \n",
        "  def getPlane(self):\n",
        "    return self._myPlane\n",
        " \n",
        "  def __copy__(self):\n",
        "    print(\"ERROR NOT IMPLEMENTED\")\n",
        "  \n",
        "class Box(LayoutObject):\n",
        "  center = None\n",
        "  size = None\n",
        "  uL = None\n",
        "  uR = None\n",
        "  bL = None\n",
        "  bR = None\n",
        "\n",
        "  #Center is a Vector2\n",
        "  def __init__(self, center, size):\n",
        "    self.center = center\n",
        "    self.size = size\n",
        "    self.uL = Vector2(center.x - size/2., center.y + size/2)\n",
        "    self.uR = Vector2(center.x + size/2., center.y + size/2) \n",
        "    self.bL = Vector2(center.x - size/2., center.y - size/2)    \n",
        "    self.bR = Vector2(center.x + size/2., center.y - size/2) \n",
        "    \n",
        "    \n",
        "  def updateCoordinates(self, center):\n",
        "    self.center = center\n",
        "    self.uL = Vector2(center.x - self.size/2., center.y + self.size/2)\n",
        "    self.uR = Vector2(center.x + self.size/2., center.y + self.size/2) \n",
        "    self.bL = Vector2(center.x - self.size/2., center.y - self.size/2)    \n",
        "    self.bR = Vector2(center.x + self.size/2., center.y - self.size/2) \n",
        "     \n",
        "  \n",
        "  def __copy__(self):\n",
        "    return Box(self.center, self.size)\n",
        "  \n",
        "  #Only supports intersections with other boxes\n",
        "  def getIntersection(self, otherLayoutObject):\n",
        "    # determine the (x, y)-coordinates of the intersection rectangle\n",
        "    xA = max(self.uL.x, otherLayoutObject.uL.x)\n",
        "    yA = min(self.uL.y, otherLayoutObject.uL.y) #A : upper left\n",
        "    xB = min(self.bR.x, otherLayoutObject.bR.x)\n",
        "    yB = max(self.bR.y, otherLayoutObject.bR.y) #B: bottom right\n",
        "    return max(0, xB - xA) * max(0, yA - yB)\n",
        "  \n",
        "    \n",
        "class Layout(object):\n",
        "  \n",
        "  def __init__(self, layoutObjects, planeBoxes, doAssignment=False):\n",
        "    self._myLayoutObjects = layoutObjects\n",
        "    self.planeBoxes = planeBoxes\n",
        "    self._myConstraints = []\n",
        "    self._myConstraints.append(BoundaryConstraint(self._myLayoutObjects))\n",
        "    self.addConstraint(AreaConstraint(self.getLayoutObjects()))\n",
        "    if doAssignment:\n",
        "      self._assignBoxes()\n",
        "    \n",
        "  def _assignBoxes(self):\n",
        "    for layoutObj in self._myLayoutObjects:\n",
        "      objArea = layoutObj.size ** 2\n",
        "      indexes = np.arange(len(self.getPlaneBoxes()))\n",
        "      np.random.shuffle(indexes)\n",
        "      for j in indexes:\n",
        "        candidatePlane = self.planeBoxes[j]\n",
        "        if objArea < candidatePlane.size**2:\n",
        "          layoutObj.setPlane(candidatePlane)\n",
        "          layoutObj.updateCoordinates(candidatePlane.center)\n",
        "          break\n",
        "      \n",
        "  def getLayoutObjects(self):\n",
        "    return self._myLayoutObjects\n",
        "  \n",
        "  def getPlaneBoxes(self):\n",
        "    return self.planeBoxes\n",
        "  \n",
        "  def addConstraint(self, constraint):\n",
        "    self._myConstraints.append(constraint)\n",
        "  \n",
        "  def getConstraints(self):\n",
        "    return self._myConstraints\n",
        "  \n",
        "  def drawLayout(self):\n",
        "    plt.axes()\n",
        "    x = np.arange(len(self._myLayoutObjects))\n",
        "    ys = [i+x+(i*x)**2 for i in range(len(self._myLayoutObjects))]\n",
        "    colors = cm.rainbow(np.linspace(0, 1, len(ys)))\n",
        "    #For now all layout objects are Boxes\n",
        "    i = 0\n",
        "    for box in self._myLayoutObjects:\n",
        "      shape = plt.Rectangle((box.bL.x, box.bL.y), box.size, box.size, fc=colors[i])\n",
        "      plt.gca().add_patch(shape)\n",
        "      #label the box\n",
        "      plt.text(box.center.x, box.center.y, str(i))\n",
        "      i += 1\n",
        "    #bounding box\n",
        "    for planeBox in self.getPlaneBoxes():\n",
        "      shape = plt.Rectangle((planeBox.bL.x, planeBox.bL.y), planeBox.size, planeBox.size, fc=\"c\", alpha=0.1)\n",
        "      plt.gca().add_patch(shape)\n",
        "    plt.axis('scaled')\n",
        "    plt.show()\n",
        "   \n",
        "  def __copy__(self):\n",
        "    newLayoutObjects = []\n",
        "    for layoutObject in self.getLayoutObjects():\n",
        "      newLayoutObject = copy(layoutObject)\n",
        "      newLayoutObjects.append(newLayoutObject)\n",
        "    return Layout(*newLayoutObjects) \n",
        "  \n",
        "  \n",
        "b = Box(Vector2(0, 0), 0.2)\n",
        "b2 = Box(Vector2(0, 0),  0.5)\n",
        "b3 = Box(Vector2(0, 0),  0.5)\n",
        "b4 = Box(Vector2(0, 0),  0.5)\n",
        "b5 = Box(Vector2(0, 0),  0.5)\n",
        "b6 = Box(Vector2(0, 0),  0.5)\n",
        "b7 = Box(Vector2(0, 0),  0.5)\n",
        "b7 = Box(Vector2(0, 0),  0.5)\n",
        "boxes = [b, b2, b3 ,b4, b5, b6, b7]\n",
        "\n",
        "bounds = Box(Vector2(0, 0),  5)\n",
        "bounds2 = Box(Vector2(10, 2), 5)\n",
        "layout = Layout([b, b2, b3 ,b4, b5, b6, b7], [bounds, bounds2], doAssignment=True)\n",
        "layout.drawLayout()\n",
        "    \n"
      ],
      "execution_count": 4,
      "outputs": [
        {
          "output_type": "display_data",
          "data": {
            "image/png": "[encoded data removed]",
            "text/plain": [
              "<matplotlib.figure.Figure at 0x7f9ac99b6c50>"
            ]
          },
          "metadata": {
            "tags": []
          }
        }
      ]
    },
    {
      "metadata": {
        "id": "nhIDhLx_3buf",
        "colab_type": "code",
        "outputId": "cd063b15-35bf-4145-fd17-67faa95fd132",
        "colab": {
          "base_uri": "https://localhost:8080/",
          "height": 415
        }
      },
      "cell_type": "code",
      "source": [
        "def boltzmann(cost, beta=1.0):\n",
        "  return np.exp(-beta*cost)\n",
        "\n",
        "def acceptanceProbability(current_cost, proposed_cost):\n",
        "  return min(1, boltzmann(proposed_cost)/boltzmann(current_cost))\n",
        "\n",
        "\n",
        "def get_cost(layout, constraints):\n",
        "  layoutObjects = layout.getLayoutObjects()\n",
        "  cost = 0\n",
        "\n",
        "  for constraint in constraints:\n",
        "    cost += constraint.evaluate_cost()\n",
        "\n",
        "  return cost\n",
        "\n",
        "\n",
        "def propose_new_layout(current_layout, prob_swap_plane=0.05, perturb=0.1):\n",
        "  new_layout_objects = []\n",
        "  planeBoxes = current_layout.getPlaneBoxes()\n",
        "  \n",
        "  for rect in current_layout.getLayoutObjects():\n",
        "    rect_center = rect.center \n",
        "    new_center = Vector2(rect_center.x + np.random.normal(scale=perturb), rect_center.y + np.random.normal(scale=perturb))\n",
        "    new_rect = Box(new_center, rect.size)\n",
        "    new_rect.setPlane(rect.getPlane())\n",
        "    new_layout_objects.append(new_rect)\n",
        "  \n",
        "  \n",
        "  if np.random.random() < prob_swap_plane: \n",
        "    randomObject = new_layout_objects[np.random.randint(len(new_layout_objects))]\n",
        "    randomPlane = planeBoxes[np.random.randint(len(planeBoxes))]\n",
        "    randomObject.setPlane(randomPlane) # !! probably just make setPlane also updateCoordinate\n",
        "    randomObject.updateCoordinates(randomPlane.center)\n",
        "    \n",
        "  \n",
        "  return Layout(new_layout_objects, planeBoxes)\n",
        "\n",
        "\n",
        "def metropolis_hastings(initial_layout, num_iters=10000):\n",
        "  cur_cost = get_cost(initial_layout, initial_layout.getConstraints())\n",
        "  cur_layout = initial_layout\n",
        "  best_layout = cur_layout\n",
        "  best_cost = float(\"inf\")\n",
        "  \n",
        "  for i in range(num_iters):\n",
        "    new_layout = propose_new_layout(cur_layout)\n",
        "    new_cost = get_cost(new_layout, new_layout.getConstraints())\n",
        "    if np.random.random() < acceptanceProbability(cur_cost, new_cost):\n",
        "      cur_layout = new_layout\n",
        "      cur_cost = new_cost\n",
        "      if cur_cost < best_cost:\n",
        "        best_layout = cur_layout\n",
        "        best_cost = cur_cost\n",
        "      \n",
        "  return best_layout\n",
        "\n",
        "\n",
        "b = Box(Vector2(0, 0), 0.2)\n",
        "b2 = Box(Vector2(0, 0),  1.5)\n",
        "b3 = Box(Vector2(0, 0),  1.5)\n",
        "b4 = Box(Vector2(0, 0),  1.5)\n",
        "b5 = Box(Vector2(0, 0),  1.5)\n",
        "b6 = Box(Vector2(0, 0),  1.5)\n",
        "b7 = Box(Vector2(0, 0),  0.5)\n",
        "b7 = Box(Vector2(0, 0),  4)\n",
        "boxes = [b, b2, b3 ,b4, b5, b6, b7]\n",
        "\n",
        "bounds = Box(Vector2(0, 0),  10)\n",
        "bounds2 = Box(Vector2(10, 2), 5)\n",
        "bounds3 = Box(Vector2(20, 0), 3)\n",
        "layout = Layout([b, b2, b3 ,b4, b5, b6, b7], [bounds, bounds2, bounds3], doAssignment=True)\n",
        "layout.drawLayout()\n",
        "final_layout = metropolis_hastings(layout, num_iters=10000)\n",
        "final_layout.drawLayout()"
      ],
      "execution_count": 5,
      "outputs": [
        {
          "output_type": "display_data",
          "data": {
            "image/png": "[encoded data removed]",
            "text/plain": [
              "<matplotlib.figure.Figure at 0x7f9ac99b6710>"
            ]
          },
          "metadata": {
            "tags": []
          }
        },
        {
          "output_type": "display_data",
          "data": {
            "image/png": "[encoded data removed]",
            "text/plain": [
              "<matplotlib.figure.Figure at 0x7f9ac70956a0>"
            ]
          },
          "metadata": {
            "tags": []
          }
        }
      ]
    },
    {
      "metadata": {
        "id": "BlIDaTczWNf5",
        "colab_type": "code",
        "colab": {
          "base_uri": "https://localhost:8080/",
          "height": 54
        },
        "outputId": "75b6b745-29f6-4751-9a4b-0f842da8b38b"
      },
      "cell_type": "code",
      "source": [
        "with open('test.yaml', 'r') as layoutdef:\n",
        "  data = layoutdef.read()\n",
        "  lol = yaml.load(data)\n",
        "print(lol)"
      ],
      "execution_count": 6,
      "outputs": [
        {
          "output_type": "stream",
          "text": [
            "{'classes': [{'.couch': [{'color': 'black'}, {'semantic-affinity': 'couch'}, {'facing': '.person'}]}, {'.person': [{'scale': 4.2}, {'padding': '0.1, 0.1, 0.1, 0.1, 0.1, 0.1'}, {'distance': [{'.couch': '0.75m - 1m'}]}]}, '.chair']}\n"
          ],
          "name": "stdout"
        }
      ]
    },
    {
      "metadata": {
        "id": "beJhPeRwk7uO",
        "colab_type": "text"
      },
      "cell_type": "markdown",
      "source": [
        ""
      ]
    },
    {
      "metadata": {
        "id": "f7o2i336I4lx",
        "colab_type": "code",
        "colab": {}
      },
      "cell_type": "code",
      "source": [
        ""
      ],
      "execution_count": 0,
      "outputs": []
    },
    {
      "metadata": {
        "id": "W6UPlDcTkbfF",
        "colab_type": "code",
        "colab": {}
      },
      "cell_type": "code",
      "source": [
        ""
      ],
      "execution_count": 0,
      "outputs": []
    }
  ]
}